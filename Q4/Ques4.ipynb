{
 "cells": [
  {
   "cell_type": "markdown",
   "id": "7adc36e4",
   "metadata": {},
   "source": [
    "# Importing Libraries"
   ]
  },
  {
   "cell_type": "code",
   "execution_count": 2,
   "id": "722c86ed",
   "metadata": {},
   "outputs": [],
   "source": [
    "import requests\n",
    "import pandas as pd\n",
    "from bs4 import BeautifulSoup as bs"
   ]
  },
  {
   "cell_type": "markdown",
   "id": "c430f994",
   "metadata": {},
   "source": [
    "# Defining Headers and Parametes for the Response"
   ]
  },
  {
   "cell_type": "code",
   "execution_count": 21,
   "id": "ffc6f66f",
   "metadata": {},
   "outputs": [],
   "source": [
    "HEADERS = ({\n",
    "    'User-Agent': 'Mozilla/5.0 (X11; Linux x86_64) AppleWebKit/537.36 (KHTML, like Gecko) Chrome/44.0.2403.157 Safari/537.36',\n",
    "    'Accept-Language': 'en-US, en;q=0.5'\n",
    "})"
   ]
  },
  {
   "cell_type": "markdown",
   "id": "56b1db21",
   "metadata": {},
   "source": [
    "# Defining Dataframe and Dates"
   ]
  },
  {
   "cell_type": "code",
   "execution_count": 37,
   "id": "66cca4a6",
   "metadata": {},
   "outputs": [],
   "source": [
    "fii=pd.DataFrame(columns=['Trading Date', 'Equity', 'Gross Purchases','Gross Sales','Net Investment'])\n",
    "dii=pd.DataFrame(columns=['Trading Date', 'Equity', 'Gross Purchases','Gross Sales','Net Investment'])"
   ]
  },
  {
   "cell_type": "code",
   "execution_count": 36,
   "id": "dfc984ee",
   "metadata": {},
   "outputs": [],
   "source": [
    "dates_list=[\"2022-07\",\"2022-06\",\"2022-05\",\"2022-04\",\"2022-03\",\"2022-02\",\"2022-01\",\"2021-12\",\"2021-11\",\"2021-10\",\"2021-09\",\"2021-08\",\"2021-07\",\"2021-06\",\"2021-05\",\"2021-04\",\"2021-03\",\"2021-02\",\"2021-01\"]"
   ]
  },
  {
   "cell_type": "code",
   "execution_count": 38,
   "id": "74ef6212",
   "metadata": {},
   "outputs": [
    {
     "data": {
      "text/plain": [
       "['2022-07',\n",
       " '2022-06',\n",
       " '2022-05',\n",
       " '2022-04',\n",
       " '2022-03',\n",
       " '2022-02',\n",
       " '2022-01',\n",
       " '2021-12',\n",
       " '2021-11',\n",
       " '2021-10',\n",
       " '2021-09',\n",
       " '2021-08',\n",
       " '2021-07',\n",
       " '2021-06',\n",
       " '2021-05',\n",
       " '2021-04',\n",
       " '2021-03',\n",
       " '2021-02',\n",
       " '2021-01']"
      ]
     },
     "execution_count": 38,
     "metadata": {},
     "output_type": "execute_result"
    }
   ],
   "source": [
    "dates_list "
   ]
  },
  {
   "cell_type": "markdown",
   "id": "68170c3e",
   "metadata": {},
   "source": [
    "# Retreiving Data"
   ]
  },
  {
   "cell_type": "code",
   "execution_count": 39,
   "id": "3abbfcd0",
   "metadata": {},
   "outputs": [],
   "source": [
    "for i in dates_list: #Iterating through all the months\n",
    "    res=requests.get(f\"https://api.niftytrader.in/webapi/Stats/fiiCashByMonth?Date={i}\", headers=HEADERS) #Fetching the data from nifty trader api\n",
    "    dict=res.json()['resultData']['data']\n",
    "    for value in dict: #Storing the data\n",
    "        if (value['category']=='DII'):\n",
    "            dii.loc[len(dii)] = [value['created_at'][:10],'Equity',value['buy_value'],value['sell_value'],value['net_value'] ]\n",
    "        else:\n",
    "            fii.loc[len(fii)] = [value['created_at'][:10],'Equity',value['buy_value'],value['sell_value'],value['net_value'] ]\n",
    "                     \n",
    "        "
   ]
  },
  {
   "cell_type": "code",
   "execution_count": 46,
   "id": "f7769d2d",
   "metadata": {},
   "outputs": [],
   "source": [
    "dii=dii[::-1].reset_index(drop=True)"
   ]
  },
  {
   "cell_type": "code",
   "execution_count": 45,
   "id": "ec022f15",
   "metadata": {},
   "outputs": [],
   "source": [
    "fii=fii[::-1].reset_index(drop=True)"
   ]
  },
  {
   "cell_type": "code",
   "execution_count": 47,
   "id": "898fedac",
   "metadata": {},
   "outputs": [
    {
     "data": {
      "text/html": [
       "<div>\n",
       "<style scoped>\n",
       "    .dataframe tbody tr th:only-of-type {\n",
       "        vertical-align: middle;\n",
       "    }\n",
       "\n",
       "    .dataframe tbody tr th {\n",
       "        vertical-align: top;\n",
       "    }\n",
       "\n",
       "    .dataframe thead th {\n",
       "        text-align: right;\n",
       "    }\n",
       "</style>\n",
       "<table border=\"1\" class=\"dataframe\">\n",
       "  <thead>\n",
       "    <tr style=\"text-align: right;\">\n",
       "      <th></th>\n",
       "      <th>Trading Date</th>\n",
       "      <th>Equity</th>\n",
       "      <th>Gross Purchases</th>\n",
       "      <th>Gross Sales</th>\n",
       "      <th>Net Investment</th>\n",
       "    </tr>\n",
       "  </thead>\n",
       "  <tbody>\n",
       "    <tr>\n",
       "      <th>0</th>\n",
       "      <td>2021-01-01</td>\n",
       "      <td>Equity</td>\n",
       "      <td>2505.67</td>\n",
       "      <td>2436.27</td>\n",
       "      <td>69.40</td>\n",
       "    </tr>\n",
       "    <tr>\n",
       "      <th>1</th>\n",
       "      <td>2021-01-04</td>\n",
       "      <td>Equity</td>\n",
       "      <td>4575.57</td>\n",
       "      <td>5290.78</td>\n",
       "      <td>-715.21</td>\n",
       "    </tr>\n",
       "    <tr>\n",
       "      <th>2</th>\n",
       "      <td>2021-01-05</td>\n",
       "      <td>Equity</td>\n",
       "      <td>5092.00</td>\n",
       "      <td>5582.03</td>\n",
       "      <td>-490.03</td>\n",
       "    </tr>\n",
       "    <tr>\n",
       "      <th>3</th>\n",
       "      <td>2021-01-06</td>\n",
       "      <td>Equity</td>\n",
       "      <td>5686.04</td>\n",
       "      <td>6066.45</td>\n",
       "      <td>-380.41</td>\n",
       "    </tr>\n",
       "    <tr>\n",
       "      <th>4</th>\n",
       "      <td>2021-01-07</td>\n",
       "      <td>Equity</td>\n",
       "      <td>4815.72</td>\n",
       "      <td>5805.22</td>\n",
       "      <td>-989.50</td>\n",
       "    </tr>\n",
       "    <tr>\n",
       "      <th>...</th>\n",
       "      <td>...</td>\n",
       "      <td>...</td>\n",
       "      <td>...</td>\n",
       "      <td>...</td>\n",
       "      <td>...</td>\n",
       "    </tr>\n",
       "    <tr>\n",
       "      <th>384</th>\n",
       "      <td>2022-07-15</td>\n",
       "      <td>Equity</td>\n",
       "      <td>5278.66</td>\n",
       "      <td>4219.20</td>\n",
       "      <td>1059.46</td>\n",
       "    </tr>\n",
       "    <tr>\n",
       "      <th>385</th>\n",
       "      <td>2022-07-18</td>\n",
       "      <td>Equity</td>\n",
       "      <td>6273.77</td>\n",
       "      <td>5429.44</td>\n",
       "      <td>844.33</td>\n",
       "    </tr>\n",
       "    <tr>\n",
       "      <th>386</th>\n",
       "      <td>2022-07-19</td>\n",
       "      <td>Equity</td>\n",
       "      <td>5085.73</td>\n",
       "      <td>5186.46</td>\n",
       "      <td>-100.73</td>\n",
       "    </tr>\n",
       "    <tr>\n",
       "      <th>387</th>\n",
       "      <td>2022-07-20</td>\n",
       "      <td>Equity</td>\n",
       "      <td>6032.73</td>\n",
       "      <td>6262.95</td>\n",
       "      <td>-230.22</td>\n",
       "    </tr>\n",
       "    <tr>\n",
       "      <th>388</th>\n",
       "      <td>2022-07-21</td>\n",
       "      <td>Equity</td>\n",
       "      <td>5071.58</td>\n",
       "      <td>5383.87</td>\n",
       "      <td>-312.29</td>\n",
       "    </tr>\n",
       "  </tbody>\n",
       "</table>\n",
       "<p>389 rows × 5 columns</p>\n",
       "</div>"
      ],
      "text/plain": [
       "    Trading Date  Equity  Gross Purchases  Gross Sales  Net Investment\n",
       "0     2021-01-01  Equity          2505.67      2436.27           69.40\n",
       "1     2021-01-04  Equity          4575.57      5290.78         -715.21\n",
       "2     2021-01-05  Equity          5092.00      5582.03         -490.03\n",
       "3     2021-01-06  Equity          5686.04      6066.45         -380.41\n",
       "4     2021-01-07  Equity          4815.72      5805.22         -989.50\n",
       "..           ...     ...              ...          ...             ...\n",
       "384   2022-07-15  Equity          5278.66      4219.20         1059.46\n",
       "385   2022-07-18  Equity          6273.77      5429.44          844.33\n",
       "386   2022-07-19  Equity          5085.73      5186.46         -100.73\n",
       "387   2022-07-20  Equity          6032.73      6262.95         -230.22\n",
       "388   2022-07-21  Equity          5071.58      5383.87         -312.29\n",
       "\n",
       "[389 rows x 5 columns]"
      ]
     },
     "execution_count": 47,
     "metadata": {},
     "output_type": "execute_result"
    }
   ],
   "source": [
    "dii"
   ]
  },
  {
   "cell_type": "code",
   "execution_count": 48,
   "id": "d437aa64",
   "metadata": {},
   "outputs": [
    {
     "data": {
      "text/html": [
       "<div>\n",
       "<style scoped>\n",
       "    .dataframe tbody tr th:only-of-type {\n",
       "        vertical-align: middle;\n",
       "    }\n",
       "\n",
       "    .dataframe tbody tr th {\n",
       "        vertical-align: top;\n",
       "    }\n",
       "\n",
       "    .dataframe thead th {\n",
       "        text-align: right;\n",
       "    }\n",
       "</style>\n",
       "<table border=\"1\" class=\"dataframe\">\n",
       "  <thead>\n",
       "    <tr style=\"text-align: right;\">\n",
       "      <th></th>\n",
       "      <th>Trading Date</th>\n",
       "      <th>Equity</th>\n",
       "      <th>Gross Purchases</th>\n",
       "      <th>Gross Sales</th>\n",
       "      <th>Net Investment</th>\n",
       "    </tr>\n",
       "  </thead>\n",
       "  <tbody>\n",
       "    <tr>\n",
       "      <th>0</th>\n",
       "      <td>2021-01-01</td>\n",
       "      <td>Equity</td>\n",
       "      <td>1072.54</td>\n",
       "      <td>566.33</td>\n",
       "      <td>506.21</td>\n",
       "    </tr>\n",
       "    <tr>\n",
       "      <th>1</th>\n",
       "      <td>2021-01-04</td>\n",
       "      <td>Equity</td>\n",
       "      <td>5331.17</td>\n",
       "      <td>3487.95</td>\n",
       "      <td>1843.22</td>\n",
       "    </tr>\n",
       "    <tr>\n",
       "      <th>2</th>\n",
       "      <td>2021-01-05</td>\n",
       "      <td>Equity</td>\n",
       "      <td>7039.45</td>\n",
       "      <td>6053.15</td>\n",
       "      <td>986.30</td>\n",
       "    </tr>\n",
       "    <tr>\n",
       "      <th>3</th>\n",
       "      <td>2021-01-06</td>\n",
       "      <td>Equity</td>\n",
       "      <td>6733.28</td>\n",
       "      <td>7216.92</td>\n",
       "      <td>-483.64</td>\n",
       "    </tr>\n",
       "    <tr>\n",
       "      <th>4</th>\n",
       "      <td>2021-01-07</td>\n",
       "      <td>Equity</td>\n",
       "      <td>8481.77</td>\n",
       "      <td>8099.47</td>\n",
       "      <td>382.30</td>\n",
       "    </tr>\n",
       "    <tr>\n",
       "      <th>...</th>\n",
       "      <td>...</td>\n",
       "      <td>...</td>\n",
       "      <td>...</td>\n",
       "      <td>...</td>\n",
       "      <td>...</td>\n",
       "    </tr>\n",
       "    <tr>\n",
       "      <th>384</th>\n",
       "      <td>2022-07-15</td>\n",
       "      <td>Equity</td>\n",
       "      <td>5300.67</td>\n",
       "      <td>6950.03</td>\n",
       "      <td>-1649.36</td>\n",
       "    </tr>\n",
       "    <tr>\n",
       "      <th>385</th>\n",
       "      <td>2022-07-18</td>\n",
       "      <td>Equity</td>\n",
       "      <td>15055.01</td>\n",
       "      <td>14898.93</td>\n",
       "      <td>156.08</td>\n",
       "    </tr>\n",
       "    <tr>\n",
       "      <th>386</th>\n",
       "      <td>2022-07-19</td>\n",
       "      <td>Equity</td>\n",
       "      <td>6177.59</td>\n",
       "      <td>5201.19</td>\n",
       "      <td>976.40</td>\n",
       "    </tr>\n",
       "    <tr>\n",
       "      <th>387</th>\n",
       "      <td>2022-07-20</td>\n",
       "      <td>Equity</td>\n",
       "      <td>7606.04</td>\n",
       "      <td>5825.10</td>\n",
       "      <td>1780.94</td>\n",
       "    </tr>\n",
       "    <tr>\n",
       "      <th>388</th>\n",
       "      <td>2022-07-21</td>\n",
       "      <td>Equity</td>\n",
       "      <td>8279.42</td>\n",
       "      <td>6480.10</td>\n",
       "      <td>1799.32</td>\n",
       "    </tr>\n",
       "  </tbody>\n",
       "</table>\n",
       "<p>389 rows × 5 columns</p>\n",
       "</div>"
      ],
      "text/plain": [
       "    Trading Date  Equity  Gross Purchases  Gross Sales  Net Investment\n",
       "0     2021-01-01  Equity          1072.54       566.33          506.21\n",
       "1     2021-01-04  Equity          5331.17      3487.95         1843.22\n",
       "2     2021-01-05  Equity          7039.45      6053.15          986.30\n",
       "3     2021-01-06  Equity          6733.28      7216.92         -483.64\n",
       "4     2021-01-07  Equity          8481.77      8099.47          382.30\n",
       "..           ...     ...              ...          ...             ...\n",
       "384   2022-07-15  Equity          5300.67      6950.03        -1649.36\n",
       "385   2022-07-18  Equity         15055.01     14898.93          156.08\n",
       "386   2022-07-19  Equity          6177.59      5201.19          976.40\n",
       "387   2022-07-20  Equity          7606.04      5825.10         1780.94\n",
       "388   2022-07-21  Equity          8279.42      6480.10         1799.32\n",
       "\n",
       "[389 rows x 5 columns]"
      ]
     },
     "execution_count": 48,
     "metadata": {},
     "output_type": "execute_result"
    }
   ],
   "source": [
    "fii"
   ]
  },
  {
   "cell_type": "code",
   "execution_count": 49,
   "id": "fc2d1219",
   "metadata": {},
   "outputs": [],
   "source": [
    "fii.to_excel('fii.xlsx') #Storing the data as xlsx"
   ]
  },
  {
   "cell_type": "code",
   "execution_count": 50,
   "id": "0f247cd8",
   "metadata": {},
   "outputs": [],
   "source": [
    "dii.to_excel('dii.xlsx')"
   ]
  },
  {
   "attachments": {
    "image-2.png": {
     "image/png": "[encoded data removed]"
    },
    "image.png": {
     "image/png": "[encoded data removed]"
    }
   },
   "cell_type": "markdown",
   "id": "f909c491",
   "metadata": {},
   "source": [
    "# Approach to the Solution\n",
    "#### Step-1: Tried Fetching the table using Beautiful Soup. But the site have have blocked all the contents to webscraper\n",
    "![image.png](attachment:image.png)\n",
    "#### Step-2: Looked out for the data sources in Inspect->Network-> Initiator. Found the data files hosted on its website,\n",
    "#### Step-3: Sent Requests to each file\n",
    "![image-2.png](attachment:image-2.png)"
   ]
  }
 ],
 "metadata": {
  "kernelspec": {
   "display_name": "Python 3 (ipykernel)",
   "language": "python",
   "name": "python3"
  },
  "language_info": {
   "codemirror_mode": {
    "name": "ipython",
    "version": 3
   },
   "file_extension": ".py",
   "mimetype": "text/x-python",
   "name": "python",
   "nbconvert_exporter": "python",
   "pygments_lexer": "ipython3",
   "version": "3.9.6"
  }
 },
 "nbformat": 4,
 "nbformat_minor": 5
}
